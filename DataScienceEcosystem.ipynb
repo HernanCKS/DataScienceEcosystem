{
 "cells": [
  {
   "cell_type": "markdown",
   "id": "fd05c559-7618-4733-88e9-533753572ec8",
   "metadata": {},
   "source": [
    "# Data Science Tools and Ecosystem\n",
    "**En este cuaderno, se resumen las herramientas y ecosistemas de ciencia de datos.**\n",
    "\n",
    "**Objetivos:**\n",
    "\n",
    "- Crear un cuaderno de Jupyter\n",
    "- Crear una celda de markdown con el título del cuaderno\n",
    "- Crear una celda de markdown para una introducción\n",
    "- Crear una celda de markdown para listar lenguajes de ciencia de datos\n",
    "- Crear una celda de markdown para listar bibliotecas de ciencia de datos\n",
    "- Crear una celda de markdown con una tabla de herramientas de ciencia de datos\n",
    "- Crear una celda de markdown introduciendo ejemplos de expresiones aritméticas\n",
    "- Crear una celda de código para multiplicar y sumar números\n",
    "- Crear una celda de código para convertir minutos a horas\n",
    "\n",
    "\n",
    "**Algunos de los lenguajes populares que utilizan los científicos de datos son:**\n",
    "\n",
    "1. Python\n",
    "2. R\n",
    "3. SQL\n",
    "4. Julia\n",
    "\n",
    "\n",
    "**Algunas de las bibliotecas comúnmente utilizadas por los científicos de datos incluyen:**\n",
    "\n",
    "1. NumPy\n",
    "2. Pandas\n",
    "3. Matplotlib\n",
    "4. Scikit-Learn\n"
   ]
  },
  {
   "cell_type": "markdown",
   "id": "e602f984-72be-4c7f-a108-ba1efd405237",
   "metadata": {},
   "source": [
    "| Herramientas de Ciencia de Datos |\n",
    "|----------------------------------|\n",
    "| Jupyter Notebook                 |\n",
    "| RStudio                          |\n",
    "| Apache Zeppelin                  |\n"
   ]
  },
  {
   "cell_type": "markdown",
   "id": "9fe86aea-eea3-4567-a89f-53de7647e08f",
   "metadata": {},
   "source": [
    "### A continuación, se presentan algunos ejemplos de evaluación de expresiones aritméticas en Python:\n",
    "\n",
    "1. **Suma**:  \n",
    "   ```python\n",
    "   5 + 3  # Resultado: 8\n",
    "___\n",
    "2. **Resta**:\n",
    "    ```python\n",
    "   10 - 4  # Resultado: 6\n",
    "___\n",
    "3. **Multiplicación**:\n",
    "    ```python\n",
    "   7 * 2  # Resultado: 14\n",
    "___\n",
    "4. **División**:\n",
    "    ```python\n",
    "   20 / 5  # Resultado: 4.0\n"
   ]
  },
  {
   "cell_type": "code",
   "execution_count": 47,
   "id": "3305fedb-2964-48ec-8b59-e1285a348747",
   "metadata": {},
   "outputs": [
    {
     "name": "stdout",
     "output_type": "stream",
     "text": [
      "El resultado de la operacion es: 17\n"
     ]
    }
   ],
   "source": [
    "# Esta es una expresión aritmética simple para multiplicar y luego sumar enteros\n",
    "expresion = (3 * 4) + 5\n",
    "print(f\"El resultado de la operacion es: {expresion}\")\n"
   ]
  },
  {
   "cell_type": "code",
   "execution_count": 51,
   "id": "ea28638c-aed2-4b85-bc4e-e4a115b63505",
   "metadata": {},
   "outputs": [
    {
     "name": "stdout",
     "output_type": "stream",
     "text": [
      "200 minutos equivalen a 3.3333333333333335 horas\n"
     ]
    }
   ],
   "source": [
    "# Esto convertirá 200 minutos a horas dividiendo por 60\n",
    "minutos = 200\n",
    "horas = minutos / 60\n",
    "print(f\"200 minutos equivalen a {horas} horas\")"
   ]
  },
  {
   "cell_type": "markdown",
   "id": "3ea3e5ff-f7e0-49c3-9a9e-f8708b324d80",
   "metadata": {},
   "source": [
    "## Autor\n",
    "Hernan Colman"
   ]
  },
  {
   "cell_type": "code",
   "execution_count": null,
   "id": "d7c557da-8e6d-48f0-9697-892a147ce5ca",
   "metadata": {},
   "outputs": [],
   "source": []
  }
 ],
 "metadata": {
  "kernelspec": {
   "display_name": "Python [conda env:base] *",
   "language": "python",
   "name": "conda-base-py"
  },
  "language_info": {
   "codemirror_mode": {
    "name": "ipython",
    "version": 3
   },
   "file_extension": ".py",
   "mimetype": "text/x-python",
   "name": "python",
   "nbconvert_exporter": "python",
   "pygments_lexer": "ipython3",
   "version": "3.12.7"
  }
 },
 "nbformat": 4,
 "nbformat_minor": 5
}
